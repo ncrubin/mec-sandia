{
 "cells": [
  {
   "attachments": {},
   "cell_type": "markdown",
   "metadata": {},
   "source": [
    "# Resource Estimates for Time evolution"
   ]
  },
  {
   "cell_type": "code",
   "execution_count": 83,
   "metadata": {},
   "outputs": [
    {
     "name": "stdout",
     "output_type": "stream",
     "text": [
      "Volume = 255.27133939199965 A^3\n",
      "rs = 0.9289611708818379 bohr\n",
      "eta = 513 \n"
     ]
    }
   ],
   "source": [
    "# Let's read in the Carbon example provided by Sandia\n",
    "import numpy as np\n",
    "from mec_sandia.vasp_utils import read_vasp\n",
    "\n",
    "ase_cell = read_vasp(f\"../vasp_data/C_POSCAR\")\n",
    "# Next we can get some system paramters\n",
    "volume_ang = ase_cell.get_volume()\n",
    "print(\"Volume = {} A^3\".format(volume_ang))\n",
    "\n",
    "# To compute rs parameter we need volume in Bohr\n",
    "from ase.units import Bohr\n",
    "volume_bohr = volume_ang / Bohr**3\n",
    "# and the number of valence electrons\n",
    "num_carbon = len(np.where(ase_cell.get_atomic_numbers() == 6)[0])\n",
    "# There is 1 hydrogen atom in the cell. Is this just a proton?\n",
    "num_elec = 1 + num_carbon * 4\n",
    "from mec_sandia.vasp_utils import compute_wigner_seitz_radius\n",
    "# Get the Wigner-Seitz radius\n",
    "rs = compute_wigner_seitz_radius(volume_bohr, num_elec)\n",
    "print(\"rs = {} bohr\".format(rs))\n",
    "print(\"eta = {} \".format(num_elec))"
   ]
  },
  {
   "cell_type": "code",
   "execution_count": 84,
   "metadata": {},
   "outputs": [
    {
     "name": "stdout",
     "output_type": "stream",
     "text": [
      "Toffolis = 7.360e+14, qubits = 10965.0\n"
     ]
    }
   ],
   "source": [
    "from mec_sandia.ft_pw_resource_estimates import pw_qubitization_costs \n",
    "\n",
    "num_bits_momenta = 6 # Number of bits in each direction for momenta\n",
    "eps_total = 1e-3 # Total allowable error\n",
    "num_bits_nu = 6 # extra bits for nu \n",
    "num_bits_nuc = 6 # extra bits for (quantum?) nuclear positions \n",
    "num_nuclei = 1# len(ase_cell.get_atomic_numbers) # Number of (quantum?) nuclei\n",
    "toff, qubit = pw_qubitization_costs(np=num_bits_momenta, eta=num_elec, Omega=volume_bohr, eps=eps_total, nMc=8, nbr=8, L=num_nuclei)\n",
    "print(f\"Toffolis = {toff:4.3e}, qubits = {qubit}\")"
   ]
  },
  {
   "cell_type": "code",
   "execution_count": 96,
   "metadata": {},
   "outputs": [
    {
     "name": "stdout",
     "output_type": "stream",
     "text": [
      "Volume = 577.1514824733873 A^3\n",
      "rs = 0.8132066816006787 a0\n",
      "eta = 1729 \n",
      "L = 15.733625397678654 a0\n",
      "Npw = 1.9766514771634667 \n"
     ]
    }
   ],
   "source": [
    "# Deuterium\n",
    "import numpy as np\n",
    "from mec_sandia.vasp_utils import read_vasp\n",
    "import math\n",
    "\n",
    "ase_cell = read_vasp(f\"../vasp_data/D_POSCAR\")\n",
    "# Next we can get some system paramters\n",
    "volume_ang = ase_cell.get_volume()\n",
    "print(\"Volume = {} A^3\".format(volume_ang))\n",
    "\n",
    "# To compute rs parameter we need volume in Bohr\n",
    "from ase.units import Bohr\n",
    "volume_bohr = volume_ang / Bohr**3\n",
    "# and the number of valence electrons\n",
    "num_atoms = len(ase_cell.get_atomic_numbers())\n",
    "print(ase_cell.)\n",
    "# There is 1 hydrogen atom in the cell. Is this just a proton?\n",
    "num_elec = num_atoms \n",
    "from mec_sandia.vasp_utils import compute_wigner_seitz_radius\n",
    "# Get the Wigner-Seitz radius\n",
    "rs = compute_wigner_seitz_radius(volume_bohr, num_elec)\n",
    "print(\"rs = {} a0\".format(rs))\n",
    "print(\"eta = {} \".format(num_elec))\n",
    "L_bohr = volume_bohr**(1.0/3.0)\n",
    "print(\"L = {} a0\".format(L_bohr))\n",
    "from ase.units import Hartree\n",
    "def num_pw_from_cutoff_ev(cutoff, length):\n",
    "    factor = (2*np.pi / length)**2\n",
    "    cutoff_ha = cutoff / Hartree\n",
    "    n_squared = 2*cutoff_ha*factor / 3\n",
    "    return n_squared**0.5 \n",
    "num_pw = num_pw_from_cutoff_ev(1000, L_bohr)\n",
    "print(\"Npw = {} \".format(num_pw))"
   ]
  },
  {
   "cell_type": "code",
   "execution_count": 106,
   "metadata": {},
   "outputs": [
    {
     "name": "stdout",
     "output_type": "stream",
     "text": [
      "Npw_x = 41, Npw = 68921, Npw_spherical = 41395\n",
      "np = 6\n"
     ]
    }
   ],
   "source": [
    "from mec_sandia.ueg import UEG\n",
    "import math\n",
    "\n",
    "ueg = UEG.build(1730, 0.813, 230)\n",
    "factor = (2*np.pi/ueg.box_length)\n",
    "gmax = ueg.gvecs[-1]\n",
    "ecut_ha = (1000/Hartree)\n",
    "ecut_tilde = ecut_ha / (factor**2)\n",
    "nmax = math.floor((2*ecut_tilde)**0.5)\n",
    "num_pw_1d = (2*nmax - 1)\n",
    "num_pw = num_pw_1d**3 \n",
    "print(\"Npw_x = {}, Npw = {}, Npw_spherical = {}\".format(num_pw_1d, num_pw, len(ueg.eigenvalues)))\n",
    "print(\"np = {}\".format(math.ceil(np.log2(num_pw**(1/3.)))))"
   ]
  },
  {
   "cell_type": "code",
   "execution_count": 108,
   "metadata": {},
   "outputs": [
    {
     "name": "stdout",
     "output_type": "stream",
     "text": [
      "1729\n",
      "Toffolis = 1.936e+16, qubits = 32874.0\n"
     ]
    }
   ],
   "source": [
    "from mec_sandia.ft_pw_resource_estimates import pw_qubitization_costs \n",
    "\n",
    "num_bits_momenta = 6 # Number of bits in each direction for momenta\n",
    "eps_total = 1e-3 # Total allowable error\n",
    "num_bits_nu = 6 # extra bits for nu \n",
    "num_bits_nuc = 6 # extra bits for (quantum?) nuclear positions \n",
    "num_nuclei = len(ase_cell.get_atomic_numbers()) # Number of (quantum?) nuclei\n",
    "print(num_nuclei)\n",
    "toff, qubit = pw_qubitization_costs(np=num_bits_momenta, eta=num_elec, Omega=volume_bohr, eps=eps_total, nMc=5, nbr=5, L=num_nuclei)\n",
    "print(f\"Toffolis = {toff:4.3e}, qubits = {qubit}\")"
   ]
  },
  {
   "cell_type": "code",
   "execution_count": 111,
   "metadata": {},
   "outputs": [
    {
     "name": "stdout",
     "output_type": "stream",
     "text": [
      "864\n",
      "432\n",
      "216\n",
      "172\n",
      "123\n",
      "86\n"
     ]
    }
   ],
   "source": [
    "rs = 0.813\n",
    "for factor in [1, 2, 4, 8, 10, 14, 20]:\n",
    "    num_elec = 1729 // factor\n",
    "    volume = (rs**3.0) * (4.0 * np.pi * num_elec / 3)\n",
    "    toff, qubit = pw_qubitization_costs(np=num_bits_momenta, eta=num_elec, Omega=volume, eps=eps_total, nMc=5, nbr=5, L=num_nuclei)"
   ]
  },
  {
   "cell_type": "code",
   "execution_count": null,
   "metadata": {},
   "outputs": [],
   "source": []
  }
 ],
 "metadata": {
  "kernelspec": {
   "display_name": "mec-sandia",
   "language": "python",
   "name": "python3"
  },
  "language_info": {
   "codemirror_mode": {
    "name": "ipython",
    "version": 3
   },
   "file_extension": ".py",
   "mimetype": "text/x-python",
   "name": "python",
   "nbconvert_exporter": "python",
   "pygments_lexer": "ipython3",
   "version": "3.10.9"
  },
  "orig_nbformat": 4,
  "vscode": {
   "interpreter": {
    "hash": "fbee34dd8c2c8e3afd763662ef372b2c6d0e1afa9af252f0e29e2f52c861e0de"
   }
  }
 },
 "nbformat": 4,
 "nbformat_minor": 2
}
