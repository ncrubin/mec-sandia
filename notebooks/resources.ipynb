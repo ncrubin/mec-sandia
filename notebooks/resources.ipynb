{
 "cells": [
  {
   "attachments": {},
   "cell_type": "markdown",
   "metadata": {},
   "source": [
    "# Resource Estimates for Time evolution"
   ]
  },
  {
   "cell_type": "code",
   "execution_count": 2,
   "metadata": {},
   "outputs": [
    {
     "name": "stdout",
     "output_type": "stream",
     "text": [
      "Volume = 255.27133939199965 A^3\n",
      "rs = 0.9289611708818379 bohr\n",
      "eta = 513 \n"
     ]
    }
   ],
   "source": [
    "# Let's read in the Carbon example provided by Sandia\n",
    "import numpy as np\n",
    "from mec_sandia.vasp_utils import read_vasp\n",
    "\n",
    "ase_cell = read_vasp(f\"../vasp_data/C_POSCAR\")\n",
    "# Next we can get some system paramters\n",
    "volume_ang = ase_cell.get_volume()\n",
    "print(\"Volume = {} A^3\".format(volume_ang))\n",
    "\n",
    "# To compute rs parameter we need volume in Bohr\n",
    "from ase.units import Bohr\n",
    "volume_bohr = volume_ang / Bohr**3\n",
    "# and the number of valence electrons\n",
    "num_carbon = len(np.where(ase_cell.get_atomic_numbers() == 6)[0])\n",
    "# There is 1 hydrogen atom in the cell. Is this just a proton?\n",
    "num_elec = 1 + num_carbon * 4\n",
    "from mec_sandia.vasp_utils import compute_wigner_seitz_radius\n",
    "# Get the Wigner-Seitz radius\n",
    "rs = compute_wigner_seitz_radius(volume_bohr, num_elec)\n",
    "print(\"rs = {} bohr\".format(rs))\n",
    "print(\"eta = {} \".format(num_elec))"
   ]
  },
  {
   "cell_type": "code",
   "execution_count": 8,
   "metadata": {},
   "outputs": [
    {
     "name": "stdout",
     "output_type": "stream",
     "text": [
      "(7, 50) (7, 50)\n"
     ]
    },
    {
     "ename": "IndexError",
     "evalue": "index 7 is out of bounds for axis 0 with size 7",
     "output_type": "error",
     "traceback": [
      "\u001b[0;31m---------------------------------------------------------------------------\u001b[0m",
      "\u001b[0;31mIndexError\u001b[0m                                Traceback (most recent call last)",
      "Cell \u001b[0;32mIn[8], line 9\u001b[0m\n\u001b[1;32m      7\u001b[0m num_bits_nuc \u001b[39m=\u001b[39m \u001b[39m7\u001b[39m \u001b[39m# extra bits for (quantum?) nuclear positions \u001b[39;00m\n\u001b[1;32m      8\u001b[0m num_nuclei \u001b[39m=\u001b[39m \u001b[39m1\u001b[39m\u001b[39m# len(ase_cell.get_atomic_numbers) # Number of (quantum?) nuclei\u001b[39;00m\n\u001b[0;32m----> 9\u001b[0m pw_qubitization_costs(np\u001b[39m=\u001b[39;49mnum_bits_momenta, eta\u001b[39m=\u001b[39;49mnum_elec, Omega\u001b[39m=\u001b[39;49mvolume_bohr, eps\u001b[39m=\u001b[39;49meps_total, nMc\u001b[39m=\u001b[39;49mnum_bits_nu, nbr\u001b[39m=\u001b[39;49mnum_bits_nuc, L\u001b[39m=\u001b[39;49mnum_nuclei)\n",
      "File \u001b[0;32m~/projects/mec-sandia/mec_sandia/ft_pw_resource_estimates.py:743\u001b[0m, in \u001b[0;36mpw_qubitization_costs\u001b[0;34m(np, eta, Omega, eps, nMc, nbr, L)\u001b[0m\n\u001b[1;32m    738\u001b[0m Peq3 \u001b[39m=\u001b[39m Peq0; \n\u001b[1;32m    740\u001b[0m \u001b[39m# This uses pvec from planedata.nb, which is precomputed values for\u001b[39;00m\n\u001b[1;32m    741\u001b[0m \u001b[39m#  \\[Lambda]_\\[Nu]. We start with a very large  guess for the number \u001b[39;00m\n\u001b[1;32m    742\u001b[0m \u001b[39m# of bits to use for M (precision in \\[Nu] \\ preparation) then adjust it.*)\u001b[39;00m\n\u001b[0;32m--> 743\u001b[0m p \u001b[39m=\u001b[39m pv[np, \u001b[39m50\u001b[39;49m]\n\u001b[1;32m    745\u001b[0m \u001b[39m# (*Now compute the lambda-values.*)\u001b[39;00m\n\u001b[1;32m    746\u001b[0m \u001b[39m# (*Here 64*(2^np-1))*p is \\[Lambda]_\\[Nu].*)\u001b[39;00m\n\u001b[1;32m    747\u001b[0m tmp \u001b[39m=\u001b[39m (\u001b[39m64\u001b[39m\u001b[39m*\u001b[39m(\u001b[39m2\u001b[39m\u001b[39m*\u001b[39m\u001b[39m*\u001b[39mnp \u001b[39m-\u001b[39m \u001b[39m1\u001b[39m)) \u001b[39m*\u001b[39m p \u001b[39m*\u001b[39m eta \u001b[39m/\u001b[39m (\u001b[39m2\u001b[39m \u001b[39m*\u001b[39m numpy\u001b[39m.\u001b[39mpi \u001b[39m*\u001b[39m Omega\u001b[39m*\u001b[39m\u001b[39m*\u001b[39m(\u001b[39m1\u001b[39m\u001b[39m/\u001b[39m\u001b[39m3\u001b[39m))\n",
      "\u001b[0;31mIndexError\u001b[0m: index 7 is out of bounds for axis 0 with size 7"
     ]
    }
   ],
   "source": [
    "from mec_sandia.ft_pw_resource_estimates import pw_qubitization_costs \n",
    "\n",
    "num_bits_momenta = 6 # Number of bits in each direction for momenta\n",
    "eps_total = 1e-3 # Total allowable error\n",
    "eps_disc_nu = 1e-3 # discretization errors\n",
    "num_bits_nu = 6 # extra bits for nu \n",
    "num_bits_nuc = 6 # extra bits for (quantum?) nuclear positions \n",
    "num_nuclei = 1# len(ase_cell.get_atomic_numbers) # Number of (quantum?) nuclei\n",
    "pw_qubitization_costs(np=num_bits_momenta, eta=num_elec, Omega=volume_bohr, eps=eps_total, nMc=num_bits_nu, nbr=num_bits_nuc, L=num_nuclei)"
   ]
  },
  {
   "cell_type": "code",
   "execution_count": null,
   "metadata": {},
   "outputs": [],
   "source": []
  },
  {
   "cell_type": "code",
   "execution_count": null,
   "metadata": {},
   "outputs": [],
   "source": []
  }
 ],
 "metadata": {
  "kernelspec": {
   "display_name": "mec-sandia",
   "language": "python",
   "name": "python3"
  },
  "language_info": {
   "codemirror_mode": {
    "name": "ipython",
    "version": 3
   },
   "file_extension": ".py",
   "mimetype": "text/x-python",
   "name": "python",
   "nbconvert_exporter": "python",
   "pygments_lexer": "ipython3",
   "version": "3.10.9"
  },
  "orig_nbformat": 4,
  "vscode": {
   "interpreter": {
    "hash": "fbee34dd8c2c8e3afd763662ef372b2c6d0e1afa9af252f0e29e2f52c861e0de"
   }
  }
 },
 "nbformat": 4,
 "nbformat_minor": 2
}
