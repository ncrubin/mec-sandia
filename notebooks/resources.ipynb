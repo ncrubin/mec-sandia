{
 "cells": [
  {
   "attachments": {},
   "cell_type": "markdown",
   "metadata": {},
   "source": [
    "# Resource Estimates for Time evolution"
   ]
  },
  {
   "cell_type": "code",
   "execution_count": 1,
   "metadata": {},
   "outputs": [
    {
     "name": "stdout",
     "output_type": "stream",
     "text": [
      "Volume = 255.27133939199965 A^3\n",
      "rs = 0.9289611708818379 bohr\n",
      "eta = 513 \n"
     ]
    }
   ],
   "source": [
    "# Let's read in the Carbon example provided by Sandia\n",
    "import numpy as np\n",
    "from mec_sandia.vasp_utils import read_vasp\n",
    "\n",
    "ase_cell = read_vasp(f\"../vasp_data/C_POSCAR\")\n",
    "# Next we can get some system paramters\n",
    "volume_ang = ase_cell.get_volume()\n",
    "print(\"Volume = {} A^3\".format(volume_ang))\n",
    "\n",
    "# To compute rs parameter we need volume in Bohr\n",
    "from ase.units import Bohr\n",
    "volume_bohr = volume_ang / Bohr**3\n",
    "# and the number of valence electrons\n",
    "num_carbon = len(np.where(ase_cell.get_atomic_numbers() == 6)[0])\n",
    "# There is 1 hydrogen atom in the cell. Is this just a proton?\n",
    "num_elec = 1 + num_carbon * 4\n",
    "from mec_sandia.vasp_utils import compute_wigner_seitz_radius\n",
    "# Get the Wigner-Seitz radius\n",
    "rs = compute_wigner_seitz_radius(volume_bohr, num_elec)\n",
    "print(\"rs = {} bohr\".format(rs))\n",
    "print(\"eta = {} \".format(num_elec))"
   ]
  },
  {
   "cell_type": "code",
   "execution_count": 35,
   "metadata": {},
   "outputs": [
    {
     "name": "stdout",
     "output_type": "stream",
     "text": [
      "513 1722.6563884141115 0.001 1\n",
      "eps_mt (7, 50)\n"
     ]
    },
    {
     "data": {
      "text/plain": [
       "(736510882185728.0, 10965.0)"
      ]
     },
     "execution_count": 35,
     "metadata": {},
     "output_type": "execute_result"
    }
   ],
   "source": [
    "from mec_sandia.ft_pw_resource_estimates import pw_qubitization_costs \n",
    "\n",
    "num_bits_momenta = 6 # Number of bits in each direction for momenta\n",
    "eps_total = 1e-3 # Total allowable error\n",
    "num_bits_nu = 6 # extra bits for nu \n",
    "num_bits_nuc = 6 # extra bits for (quantum?) nuclear positions \n",
    "num_nuclei = 1# len(ase_cell.get_atomic_numbers) # Number of (quantum?) nuclei\n",
    "pw_qubitization_costs(np=num_bits_momenta, eta=num_elec, Omega=1722, eps=eps_total, nMc=8, nbr=8, L=num_nuclei)"
   ]
  },
  {
   "cell_type": "code",
   "execution_count": null,
   "metadata": {},
   "outputs": [],
   "source": []
  },
  {
   "cell_type": "code",
   "execution_count": null,
   "metadata": {},
   "outputs": [],
   "source": []
  }
 ],
 "metadata": {
  "kernelspec": {
   "display_name": "mec-sandia",
   "language": "python",
   "name": "python3"
  },
  "language_info": {
   "codemirror_mode": {
    "name": "ipython",
    "version": 3
   },
   "file_extension": ".py",
   "mimetype": "text/x-python",
   "name": "python",
   "nbconvert_exporter": "python",
   "pygments_lexer": "ipython3",
   "version": "3.10.9"
  },
  "orig_nbformat": 4,
  "vscode": {
   "interpreter": {
    "hash": "fbee34dd8c2c8e3afd763662ef372b2c6d0e1afa9af252f0e29e2f52c861e0de"
   }
  }
 },
 "nbformat": 4,
 "nbformat_minor": 2
}
