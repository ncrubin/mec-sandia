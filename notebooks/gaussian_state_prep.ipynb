{
 "cells": [
  {
   "attachments": {},
   "cell_type": "markdown",
   "metadata": {},
   "source": [
    "# Gaussian State Preparation\n",
    "\n",
    "Ref [1] outlines how to approximately preparare a 1D Gaussian state\n",
    "\n",
    "$$\n",
    "\n",
    "|G(\\sigma,\\mu)\\rangle = \\frac{1}{\\mathcal{N}} \\int dx e^{-\\left(\\frac{x-\\mu}{\\sigma}\\right)^2} |x\\rangle; \\quad \\mathcal{N}^2 = \\sigma \\sqrt{2\\pi}\n",
    "\n",
    "$$\n",
    "\n",
    "which is approximated by a discreted 1DGS (Kitaev-Webb (KW))\n",
    "\n",
    "$$\n",
    "\n",
    "|G_{\\mathrm{KW}}(\\sigma,\\mu)\\rangle = \\sum_{i\\in\\mathbb{Z}} G_{\\mathrm{KW}}(\\sigma,\\mu;i)|i \\rangle\n",
    "\n",
    "$$\n",
    "\n",
    "where\n",
    "\n",
    "$$\n",
    "G_{\\mathrm{KW}}(\\sigma,\\mu;i) = \\frac{1}{f_{\\mathrm{KW}(\\sigma,\\mu)}} e^{\\frac{(i-\\mu)^2}{4\\sigma^2}}, \\quad f_{\\mathrm{KW}}(\\sigma,\\mu) = \\sum_{i\\in\\mathbb{Z}} e^{\\frac{(i-\\mu)^2}{4\\sigma^2}}.\n",
    "\n",
    "$$\n",
    "\n",
    "In practice, we further approximate \n",
    "\n",
    "$$\n",
    "G_{\\mathrm{KW}}(\\sigma,\\mu,i) \\approx \\sum_j^{2^m-1}G_{\\mathrm{KW}}(\\sigma,\\mu,i+j2^m).\n",
    "$$\n",
    "\n",
    "There are then two approximations: 1) the representation of a Gaussian state defined for continuous values of the position, and 2) the description of this discretized Gaussian using a fixed prescision real numbers, i.e. every real number is associated with a $p$-bit integer. The question is then how to generate this state, and how much do these approximations matter in practice.\n",
    "\n",
    "From [1], they say the (integer) largest value for a real number is $2^m$, so they use $m$ to be the radix point position (the number of bits to the left of the decimal point).  \n",
    "\n",
    "\n",
    "In our case we just want to prepare the state\n",
    "\n",
    "$$\n",
    "\n",
    "\\psi(k) = C e^{-(k-\\mu)^2/4\\sigma^2}\n",
    "\n",
    "$$\n",
    "\n",
    "which can be approximated as\n",
    "\n",
    "\n",
    "$$\n",
    "\n",
    "|\\psi \\rangle = \\tilde{C} \\sum_n \\delta e^{-n^2/(4\\tilde{\\sigma})^2} |\\delta n\\rangle\n",
    "\n",
    "$$\n",
    "\n",
    "where $k$ is a continuous variable in principle. In practice $k$ lives on a discrete grid given by $[-2\\pi n/L, 2\\pi/L]$, where $L$ is the size of the supercell, and the range of $n$ is usually fixed by the planewave cutoff, $\\frac{1}{2}(k_{\\max}-k_{\\mathrm{mean}})^2 \\le E_{\\mathrm{cut}}$, which for us is typically $n \\approx 61$, $\\delta = 2\\pi/L$\n",
    "\n",
    "[1] suggests two algorithms to generate a Gaussian. The first is a recursive algorithm where the amplitudes $\\approx e^{k^2/\\sigma^2}$  are prepared on the quantum computer via\n",
    "\n",
    "$$\n",
    "\n",
    "|\\xi(\\sigma, \\mu, m)\\rangle = |\\xi(\\sigma/2,\\mu/2,m-1)\\rangle\\otimes|0\\rangle + |\\xi(\\sigma,(\\mu-1)/2,m-1\\rangle)\\otimes|1\\rangle, \\quad \\theta = \\arccos\\sqrt{\\frac{f_{\\mathrm{KW}}(\\sigma, \\mu/2)}{f_{\\mathrm{KW}}(\\sigma, \\mu)}}.\n",
    "\n",
    "$$\n",
    "\n",
    "This is problematic because it involves computing $\\arccos$ and $f_{\\mathrm{KW}}$ on the quantum computer.\n",
    "\n",
    "The second approach is to use an idea similar to alias sampling described in the linear-T complexity paper. At a high level we can classically compute the amplitudes, load these into a register and probabilistically sample from this distribution such that some uniformly prepared initial state ends up in a correctly weighted state.\n",
    "\n",
    "\n",
    "[1] https://arxiv.org/pdf/2110.05708.pdf\n",
    "\n",
    "\n"
   ]
  },
  {
   "attachments": {},
   "cell_type": "markdown",
   "metadata": {},
   "source": [
    "* Test these classically.\n",
    "* Cost alias sampling approach (this should be in the PRL).\n",
    "* Check error given planewave cutoffs we expect and sigma."
   ]
  },
  {
   "attachments": {},
   "cell_type": "markdown",
   "metadata": {},
   "source": [
    "## Basic Approximations\n",
    "\n",
    "Given some Gaussian defined for continuous $x$ in 1D we want to compute the discretization error this introduces (there is no fidelity error if $k$ is identically a RLV).\n",
    "\n",
    "If we have a Gaussian wavepacket in real space with some width $\\sigma_x$\n",
    "\n",
    "$$\n",
    "\n",
    "\\psi(x) = \\frac{1}{\\sigma_x\\sqrt{2\\pi}}e^{-x^2/2\\sigma_x^2}\n",
    "\n",
    "$$\n",
    "\n",
    "then we have\n",
    "\n",
    "\\begin{align}\n",
    "\n",
    "\\psi(k) &= \\frac{1}{\\sigma_x\\sqrt{2\\pi}} \\times \\sqrt{\\pi 2\\sigma_x^2}e^{-\\pi^2 2 \\sigma_r^2 k^2} \\\\\n",
    "        &= e^{-k^2/2\\sigma_k^2}\n",
    "\n",
    "\\end{align}\n",
    "\n",
    "where $\\sigma_k = \\frac{1}{2\\pi\\sigma_x}$."
   ]
  },
  {
   "attachments": {},
   "cell_type": "markdown",
   "metadata": {},
   "source": [
    "If we fix $\\sigma_x \\approx 1$ bohr, then $\\sigma_k \\approx \\frac{1}{2\\pi} \\ \\mathrm{bohr}^{-1} \\approx 0.159 \\ \\mathrm{bohr}^{-1}$. The momentum space grid spacing from the Deuterium syste is $0.39 \\ \\mathrm{bohr}^{-1}$"
   ]
  },
  {
   "attachments": {},
   "cell_type": "markdown",
   "metadata": {},
   "source": [
    "If we want better resolution we can tune the width in real space so that $\\sigma_k \\le p_k$, where $p_k$ is the  "
   ]
  },
  {
   "cell_type": "code",
   "execution_count": 1,
   "metadata": {},
   "outputs": [],
   "source": [
    "import numpy as np\n",
    "\n",
    "def gaussian_real_space(ns, sigma_r, box_length):\n",
    "    x_scaled = ns / L\n",
    "    gx = np.exp(-x_scaled**2/(2*sigma_r)**2) / (sigma*np.sqrt(2*np.pi))\n",
    "    return gx\n",
    "\n",
    "def gaussian_kspace(ns, sigma_k, box_length):\n",
    "    g_scaled = ns / L\n",
    "    gx = np.exp(-g_scaled**2/(2*sigma_k)**2)\n",
    "    return gx"
   ]
  },
  {
   "cell_type": "code",
   "execution_count": null,
   "metadata": {},
   "outputs": [],
   "source": []
  }
 ],
 "metadata": {
  "kernelspec": {
   "display_name": "mec_collab",
   "language": "python",
   "name": "python3"
  },
  "language_info": {
   "codemirror_mode": {
    "name": "ipython",
    "version": 3
   },
   "file_extension": ".py",
   "mimetype": "text/x-python",
   "name": "python",
   "nbconvert_exporter": "python",
   "pygments_lexer": "ipython3",
   "version": "3.10.9"
  },
  "orig_nbformat": 4
 },
 "nbformat": 4,
 "nbformat_minor": 2
}
